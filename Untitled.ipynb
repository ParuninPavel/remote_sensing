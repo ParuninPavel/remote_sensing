{
 "cells": [
  {
   "cell_type": "code",
   "execution_count": 4,
   "metadata": {},
   "outputs": [],
   "source": [
    "from keras.layers import Input, Conv2D, MaxPooling2D, Flatten, concatenate, Activation, Dense\n",
    "from keras.models import Model"
   ]
  },
  {
   "cell_type": "code",
   "execution_count": 6,
   "metadata": {},
   "outputs": [
    {
     "name": "stdout",
     "output_type": "stream",
     "text": [
      "_________________________________________________________________\n",
      "Layer (type)                 Output Shape              Param #   \n",
      "=================================================================\n",
      "input_3 (InputLayer)         (None, 128, 128, 3)       0         \n",
      "_________________________________________________________________\n",
      "conv2d_5 (Conv2D)            (None, 128, 128, 32)      896       \n",
      "_________________________________________________________________\n",
      "activation_5 (Activation)    (None, 128, 128, 32)      0         \n",
      "_________________________________________________________________\n",
      "max_pooling2d_5 (MaxPooling2 (None, 64, 64, 32)        0         \n",
      "_________________________________________________________________\n",
      "conv2d_6 (Conv2D)            (None, 64, 64, 32)        9248      \n",
      "_________________________________________________________________\n",
      "activation_6 (Activation)    (None, 64, 64, 32)        0         \n",
      "_________________________________________________________________\n",
      "max_pooling2d_6 (MaxPooling2 (None, 32, 32, 32)        0         \n",
      "_________________________________________________________________\n",
      "flatten_3 (Flatten)          (None, 32768)             0         \n",
      "_________________________________________________________________\n",
      "dense_2 (Dense)              (None, 1)                 32769     \n",
      "=================================================================\n",
      "Total params: 42,913\n",
      "Trainable params: 42,913\n",
      "Non-trainable params: 0\n",
      "_________________________________________________________________\n"
     ]
    }
   ],
   "source": [
    "input = Input((128,128,3))\n",
    "conv1 = Conv2D(32, (3, 3), padding='same')(input)\n",
    "act1 = Activation('relu')(conv1)\n",
    "pool2 = MaxPooling2D(pool_size=(2, 2))(act1)\n",
    "\n",
    "conv2 = Conv2D(32, (3, 3), padding='same')(pool2)\n",
    "act2 = Activation('relu')(conv2)\n",
    "pool2 = MaxPooling2D(pool_size=(2, 2))(act2)\n",
    "\n",
    "flat = Flatten()(pool2)\n",
    "output = Dense(1, activation='sigmoid')(flat)\n",
    "\n",
    "model_1 = Model(inputs=input, outputs=output, name = 'simple CNN')\n",
    "model_1.summary()"
   ]
  },
  {
   "cell_type": "code",
   "execution_count": 17,
   "metadata": {},
   "outputs": [
    {
     "name": "stdout",
     "output_type": "stream",
     "text": [
      "____________________________________________________________________________________________________\n",
      "Layer (type)                     Output Shape          Param #     Connected to                     \n",
      "====================================================================================================\n",
      "input_21 (InputLayer)            (None, 128, 128, 3)   0                                            \n",
      "____________________________________________________________________________________________________\n",
      "conv2d_23 (Conv2D)               (None, 128, 128, 32)  896         input_21[0][0]                   \n",
      "____________________________________________________________________________________________________\n",
      "activation_23 (Activation)       (None, 128, 128, 32)  0           conv2d_23[0][0]                  \n",
      "____________________________________________________________________________________________________\n",
      "max_pooling2d_23 (MaxPooling2D)  (None, 64, 64, 32)    0           activation_23[0][0]              \n",
      "____________________________________________________________________________________________________\n",
      "conv2d_24 (Conv2D)               (None, 64, 64, 32)    9248        max_pooling2d_23[0][0]           \n",
      "____________________________________________________________________________________________________\n",
      "activation_24 (Activation)       (None, 64, 64, 32)    0           conv2d_24[0][0]                  \n",
      "____________________________________________________________________________________________________\n",
      "max_pooling2d_24 (MaxPooling2D)  (None, 32, 32, 32)    0           activation_24[0][0]              \n",
      "____________________________________________________________________________________________________\n",
      "input_20 (InputLayer)            (None, 10000)         0                                            \n",
      "____________________________________________________________________________________________________\n",
      "flatten_12 (Flatten)             (None, 32768)         0           max_pooling2d_24[0][0]           \n",
      "____________________________________________________________________________________________________\n",
      "concatenate_9 (Concatenate)      (None, 42768)         0           input_20[0][0]                   \n",
      "                                                                   flatten_12[0][0]                 \n",
      "____________________________________________________________________________________________________\n",
      "dense_11 (Dense)                 (None, 1)             42769       concatenate_9[0][0]              \n",
      "====================================================================================================\n",
      "Total params: 52,913\n",
      "Trainable params: 52,913\n",
      "Non-trainable params: 0\n",
      "____________________________________________________________________________________________________\n"
     ]
    }
   ],
   "source": [
    "input_2 = Input((10000,))\n",
    "\n",
    "input_1 = Input((128,128,3))\n",
    "conv1 = Conv2D(32, (3, 3), padding='same')(input_1)\n",
    "act1 = Activation('relu')(conv1)\n",
    "pool2 = MaxPooling2D(pool_size=(2, 2))(act1)\n",
    "\n",
    "conv2 = Conv2D(32, (3, 3), padding='same')(pool2)\n",
    "act2 = Activation('relu')(conv2)\n",
    "pool2 = MaxPooling2D(pool_size=(2, 2))(act2)\n",
    "\n",
    "flat = Flatten()(pool2)\n",
    "concat = concatenate([input_2, flat])\n",
    "\n",
    "output = Dense(1, activation='sigmoid')(concat)\n",
    "\n",
    "model_1 = Model(inputs=[input_2, input_1], outputs=output, name = 'simple CNN')\n",
    "model_1.summary()"
   ]
  }
 ],
 "metadata": {
  "kernelspec": {
   "display_name": "Python [conda env:tensorflow]",
   "language": "python",
   "name": "conda-env-tensorflow-py"
  },
  "language_info": {
   "codemirror_mode": {
    "name": "ipython",
    "version": 3
   },
   "file_extension": ".py",
   "mimetype": "text/x-python",
   "name": "python",
   "nbconvert_exporter": "python",
   "pygments_lexer": "ipython3",
   "version": "3.5.4"
  }
 },
 "nbformat": 4,
 "nbformat_minor": 2
}
